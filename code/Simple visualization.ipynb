{
 "cells": [
  {
   "cell_type": "code",
   "execution_count": 7,
   "metadata": {
    "scrolled": false
   },
   "outputs": [],
   "source": [
    "import pandas as pd\n",
    "import numpy as np\n",
    "import plotly.plotly as py\n",
    "import plotly.graph_objs as go\n",
    "import pymysql"
   ]
  },
  {
   "cell_type": "code",
   "execution_count": 8,
   "metadata": {},
   "outputs": [],
   "source": [
    "host=\"isproject.czwxn60qeghl.us-east-1.rds.amazonaws.com\"\n",
    "port=3306\n",
    "dbname=\"IPO\"\n",
    "user=\"admin1234\"\n",
    "password=\"admin1234\"\n",
    "\n",
    "conn = pymysql.connect(host, user=user,port=port,\n",
    "                           passwd=password, db=dbname)"
   ]
  },
  {
   "cell_type": "code",
   "execution_count": 9,
   "metadata": {},
   "outputs": [
    {
     "data": {
      "text/html": [
       "<div>\n",
       "<style scoped>\n",
       "    .dataframe tbody tr th:only-of-type {\n",
       "        vertical-align: middle;\n",
       "    }\n",
       "\n",
       "    .dataframe tbody tr th {\n",
       "        vertical-align: top;\n",
       "    }\n",
       "\n",
       "    .dataframe thead th {\n",
       "        text-align: right;\n",
       "    }\n",
       "</style>\n",
       "<table border=\"1\" class=\"dataframe\">\n",
       "  <thead>\n",
       "    <tr style=\"text-align: right;\">\n",
       "      <th></th>\n",
       "      <th>company</th>\n",
       "      <th>symbol</th>\n",
       "      <th>market</th>\n",
       "      <th>price</th>\n",
       "      <th>shares</th>\n",
       "      <th>amount</th>\n",
       "      <th>date</th>\n",
       "    </tr>\n",
       "  </thead>\n",
       "  <tbody>\n",
       "    <tr>\n",
       "      <th>0</th>\n",
       "      <td>ADVANCED ACCELERATOR APPLICATI</td>\n",
       "      <td>AAAP</td>\n",
       "      <td>NASDAQ</td>\n",
       "      <td>16</td>\n",
       "      <td>4688000</td>\n",
       "      <td>75008000</td>\n",
       "      <td>11/11/2015</td>\n",
       "    </tr>\n",
       "    <tr>\n",
       "      <th>1</th>\n",
       "      <td>ATLANTIC ALLIANCE PARTNERSHIP</td>\n",
       "      <td>AAPC</td>\n",
       "      <td>NASDAQ</td>\n",
       "      <td>10</td>\n",
       "      <td>7500000</td>\n",
       "      <td>75000000</td>\n",
       "      <td>4/29/2015</td>\n",
       "    </tr>\n",
       "    <tr>\n",
       "      <th>2</th>\n",
       "      <td>ALLEGIANCE BANCSHARES, INC.</td>\n",
       "      <td>ABTX</td>\n",
       "      <td>NASDAQ</td>\n",
       "      <td>21</td>\n",
       "      <td>2600000</td>\n",
       "      <td>54600000</td>\n",
       "      <td>10/8/2015</td>\n",
       "    </tr>\n",
       "    <tr>\n",
       "      <th>3</th>\n",
       "      <td>ACLARIS THERAPEUTICS, INC.</td>\n",
       "      <td>ACRS</td>\n",
       "      <td>NASDAQ</td>\n",
       "      <td>11</td>\n",
       "      <td>5000000</td>\n",
       "      <td>55000000</td>\n",
       "      <td>10/7/2015</td>\n",
       "    </tr>\n",
       "    <tr>\n",
       "      <th>4</th>\n",
       "      <td>ADAPTIMMUNE THERAPEUTICS PLC</td>\n",
       "      <td>ADAP</td>\n",
       "      <td>NASDAQ</td>\n",
       "      <td>17</td>\n",
       "      <td>11250000</td>\n",
       "      <td>191250000</td>\n",
       "      <td>5/6/2015</td>\n",
       "    </tr>\n",
       "  </tbody>\n",
       "</table>\n",
       "</div>"
      ],
      "text/plain": [
       "                          company symbol  market  price    shares     amount  \\\n",
       "0  ADVANCED ACCELERATOR APPLICATI   AAAP  NASDAQ     16   4688000   75008000   \n",
       "1  ATLANTIC ALLIANCE PARTNERSHIP    AAPC  NASDAQ     10   7500000   75000000   \n",
       "2     ALLEGIANCE BANCSHARES, INC.   ABTX  NASDAQ     21   2600000   54600000   \n",
       "3      ACLARIS THERAPEUTICS, INC.   ACRS  NASDAQ     11   5000000   55000000   \n",
       "4    ADAPTIMMUNE THERAPEUTICS PLC   ADAP  NASDAQ     17  11250000  191250000   \n",
       "\n",
       "         date  \n",
       "0  11/11/2015  \n",
       "1   4/29/2015  \n",
       "2   10/8/2015  \n",
       "3   10/7/2015  \n",
       "4    5/6/2015  "
      ]
     },
     "execution_count": 9,
     "metadata": {},
     "output_type": "execute_result"
    }
   ],
   "source": [
    "ipo = pd.read_sql('select * from ipo_char;', con=conn)\n",
    "ipo.head()"
   ]
  },
  {
   "cell_type": "code",
   "execution_count": 13,
   "metadata": {},
   "outputs": [],
   "source": [
    "import plotly \n",
    "plotly.tools.set_credentials_file(username='Pankick', api_key='IOQSw11oXsY0N5834OlH')"
   ]
  },
  {
   "cell_type": "code",
   "execution_count": 11,
   "metadata": {},
   "outputs": [
    {
     "data": {
      "text/html": [
       "<div>\n",
       "<style scoped>\n",
       "    .dataframe tbody tr th:only-of-type {\n",
       "        vertical-align: middle;\n",
       "    }\n",
       "\n",
       "    .dataframe tbody tr th {\n",
       "        vertical-align: top;\n",
       "    }\n",
       "\n",
       "    .dataframe thead th {\n",
       "        text-align: right;\n",
       "    }\n",
       "</style>\n",
       "<table border=\"1\" class=\"dataframe\">\n",
       "  <thead>\n",
       "    <tr style=\"text-align: right;\">\n",
       "      <th></th>\n",
       "      <th>company</th>\n",
       "      <th>symbol</th>\n",
       "      <th>market</th>\n",
       "      <th>price</th>\n",
       "      <th>shares</th>\n",
       "      <th>amount</th>\n",
       "      <th>date</th>\n",
       "    </tr>\n",
       "  </thead>\n",
       "  <tbody>\n",
       "    <tr>\n",
       "      <th>151</th>\n",
       "      <td>PATRIOT NATIONAL, INC.</td>\n",
       "      <td>PN</td>\n",
       "      <td>NYSE</td>\n",
       "      <td>14</td>\n",
       "      <td>8315700</td>\n",
       "      <td>116419800</td>\n",
       "      <td>1/16/2015</td>\n",
       "    </tr>\n",
       "    <tr>\n",
       "      <th>156</th>\n",
       "      <td>EXELA TECHNOLOGIES, INC.</td>\n",
       "      <td>QPACU</td>\n",
       "      <td>NASDAQ</td>\n",
       "      <td>10</td>\n",
       "      <td>35000000</td>\n",
       "      <td>350000000</td>\n",
       "      <td>1/16/2015</td>\n",
       "    </tr>\n",
       "    <tr>\n",
       "      <th>98</th>\n",
       "      <td>COUNTY BANCORP, INC.</td>\n",
       "      <td>ICBK</td>\n",
       "      <td>NASDAQ</td>\n",
       "      <td>16</td>\n",
       "      <td>1180000</td>\n",
       "      <td>18585000</td>\n",
       "      <td>1/16/2015</td>\n",
       "    </tr>\n",
       "    <tr>\n",
       "      <th>28</th>\n",
       "      <td>BOX INC</td>\n",
       "      <td>BOX</td>\n",
       "      <td>NYSE</td>\n",
       "      <td>14</td>\n",
       "      <td>12500000</td>\n",
       "      <td>175000000</td>\n",
       "      <td>1/23/2015</td>\n",
       "    </tr>\n",
       "    <tr>\n",
       "      <th>68</th>\n",
       "      <td>EURONAV NV</td>\n",
       "      <td>EURN</td>\n",
       "      <td>NYSE</td>\n",
       "      <td>12</td>\n",
       "      <td>16260000</td>\n",
       "      <td>199185000</td>\n",
       "      <td>1/23/2015</td>\n",
       "    </tr>\n",
       "  </tbody>\n",
       "</table>\n",
       "</div>"
      ],
      "text/plain": [
       "                      company symbol  market  price    shares     amount  \\\n",
       "151    PATRIOT NATIONAL, INC.     PN    NYSE     14   8315700  116419800   \n",
       "156  EXELA TECHNOLOGIES, INC.  QPACU  NASDAQ     10  35000000  350000000   \n",
       "98       COUNTY BANCORP, INC.   ICBK  NASDAQ     16   1180000   18585000   \n",
       "28                    BOX INC    BOX    NYSE     14  12500000  175000000   \n",
       "68                 EURONAV NV   EURN    NYSE     12  16260000  199185000   \n",
       "\n",
       "          date  \n",
       "151  1/16/2015  \n",
       "156  1/16/2015  \n",
       "98   1/16/2015  \n",
       "28   1/23/2015  \n",
       "68   1/23/2015  "
      ]
     },
     "execution_count": 11,
     "metadata": {},
     "output_type": "execute_result"
    }
   ],
   "source": [
    "ipo_datesort = ipo.sort_values(by=['date'])\n",
    "ipo_datesort.head()"
   ]
  },
  {
   "cell_type": "code",
   "execution_count": 14,
   "metadata": {},
   "outputs": [
    {
     "name": "stderr",
     "output_type": "stream",
     "text": [
      "c:\\users\\patri\\appdata\\local\\programs\\python\\python37\\lib\\site-packages\\IPython\\core\\display.py:689: UserWarning:\n",
      "\n",
      "Consider using IPython.display.IFrame instead\n",
      "\n"
     ]
    },
    {
     "data": {
      "text/html": [
       "<iframe id=\"igraph\" scrolling=\"no\" style=\"border:none;\" seamless=\"seamless\" src=\"https://plot.ly/~Pankick/16.embed\" height=\"525px\" width=\"100%\"></iframe>"
      ],
      "text/plain": [
       "<chart_studio.tools.PlotlyDisplay object>"
      ]
     },
     "execution_count": 14,
     "metadata": {},
     "output_type": "execute_result"
    }
   ],
   "source": [
    "ipo_sorted_date = ipo.sort_values(by=['date'])\n",
    "data0 = [go.Bar(x=ipo_sorted_date.symbol,\n",
    "            y=ipo_sorted_date.amount)]  \n",
    "py.iplot(data0, filename='IPO_Amount_chart')"
   ]
  },
  {
   "cell_type": "code",
   "execution_count": 15,
   "metadata": {
    "scrolled": false
   },
   "outputs": [
    {
     "data": {
      "text/html": [
       "<iframe id=\"igraph\" scrolling=\"no\" style=\"border:none;\" seamless=\"seamless\" src=\"https://plot.ly/~Pankick/18.embed\" height=\"525px\" width=\"100%\"></iframe>"
      ],
      "text/plain": [
       "<chart_studio.tools.PlotlyDisplay object>"
      ]
     },
     "execution_count": 15,
     "metadata": {},
     "output_type": "execute_result"
    }
   ],
   "source": [
    "data1 = [go.Bar(x=ipo_sorted_date.symbol,\n",
    "            y=ipo_sorted_date.price)]\n",
    "py.iplot(data1, filename='IPO_Price_chart')"
   ]
  },
  {
   "cell_type": "code",
   "execution_count": 11,
   "metadata": {
    "scrolled": true
   },
   "outputs": [
    {
     "data": {
      "text/plain": [
       "['company', 'symbol', 'market', 'price', 'shares', 'amount', 'date']"
      ]
     },
     "execution_count": 11,
     "metadata": {},
     "output_type": "execute_result"
    }
   ],
   "source": [
    "list(ipo)"
   ]
  },
  {
   "cell_type": "code",
   "execution_count": 16,
   "metadata": {},
   "outputs": [],
   "source": [
    "ipo0=ipo_sorted_date[ipo_sorted_date['market']=='NASDAQ']\n",
    "ipo1=ipo_sorted_date[ipo_sorted_date['market']=='NYSE']\n",
    "ipo2=ipo_sorted_date[(ipo_sorted_date['market']!='NYSE') & (ipo_sorted_date['market']!='NASDAQ')]"
   ]
  },
  {
   "cell_type": "code",
   "execution_count": 17,
   "metadata": {
    "scrolled": false
   },
   "outputs": [
    {
     "data": {
      "text/html": [
       "<iframe id=\"igraph\" scrolling=\"no\" style=\"border:none;\" seamless=\"seamless\" src=\"https://plot.ly/~Pankick/12.embed\" height=\"525px\" width=\"100%\"></iframe>"
      ],
      "text/plain": [
       "<chart_studio.tools.PlotlyDisplay object>"
      ]
     },
     "execution_count": 17,
     "metadata": {},
     "output_type": "execute_result"
    }
   ],
   "source": [
    "trace0 = go.Scatter(\n",
    "    x = ipo0['date'],\n",
    "    y = ipo0['price'],\n",
    "    name='NASDAQ',\n",
    "    mode='markers',\n",
    "    text=ipo0['company'],\n",
    "    marker=dict(\n",
    "        size=ipo0['amount']/20000000,\n",
    "        color=1\n",
    "        \n",
    "    )\n",
    ")\n",
    "\n",
    "trace1 = go.Scatter(\n",
    "    x = ipo1['date'],\n",
    "    y = ipo1['price'],\n",
    "    name='NYSE',\n",
    "    mode='markers',\n",
    "    text=ipo1['company'],\n",
    "    marker=dict(\n",
    "        size=ipo1['amount']/20000000,\n",
    "        color=2\n",
    "        \n",
    "    )\n",
    ")\n",
    "\n",
    "trace2 = go.Scatter(\n",
    "    x = ipo2['date'],\n",
    "    y = ipo2['price'],\n",
    "    name='Other',\n",
    "    mode='markers',\n",
    "    text=ipo2['company'],\n",
    "    marker=dict(\n",
    "        size=ipo1['amount']/20000000,\n",
    "        color=3\n",
    "        \n",
    "    )\n",
    ")\n",
    "\n",
    "layout= go.Layout(\n",
    "    title= 'IPO Information',\n",
    "    hovermode= 'closest',\n",
    "    xaxis= dict(\n",
    "        title= 'Date',\n",
    "        \n",
    "    ),\n",
    "    yaxis=dict(\n",
    "        title= 'IPO Price',\n",
    "        ticklen= 5,\n",
    "       \n",
    "    ),\n",
    "    showlegend= True\n",
    ")\n",
    "data2 = [trace0, trace1, trace2]\n",
    "fig = dict(data=data2, layout=layout)\n",
    "py.iplot(fig, filename='IPO_Scatter')"
   ]
  },
  {
   "cell_type": "code",
   "execution_count": 21,
   "metadata": {},
   "outputs": [
    {
     "data": {
      "text/plain": [
       "'IPO_plot.html'"
      ]
     },
     "execution_count": 21,
     "metadata": {},
     "output_type": "execute_result"
    }
   ],
   "source": [
    "plotly.offline.plot(fig, filename='IPO_plot.html')"
   ]
  },
  {
   "cell_type": "code",
   "execution_count": 22,
   "metadata": {},
   "outputs": [
    {
     "data": {
      "text/plain": [
       "'IPO_price.html'"
      ]
     },
     "execution_count": 22,
     "metadata": {},
     "output_type": "execute_result"
    }
   ],
   "source": [
    "plotly.offline.plot(data0, filename='IPO_amount.html')\n",
    "plotly.offline.plot(data0, filename='IPO_price.html')"
   ]
  }
 ],
 "metadata": {
  "kernelspec": {
   "display_name": "Python 3",
   "language": "python",
   "name": "python3"
  },
  "language_info": {
   "codemirror_mode": {
    "name": "ipython",
    "version": 3
   },
   "file_extension": ".py",
   "mimetype": "text/x-python",
   "name": "python",
   "nbconvert_exporter": "python",
   "pygments_lexer": "ipython3",
   "version": "3.7.3"
  }
 },
 "nbformat": 4,
 "nbformat_minor": 2
}
